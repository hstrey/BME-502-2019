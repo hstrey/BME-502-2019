{
 "cells": [
  {
   "cell_type": "markdown",
   "metadata": {},
   "source": [
    "# homework 3\n",
    "Estimate $\\pi$ using random numbers.  The basic idea is to play darts on a 2x2 square in which a circle of radius one is placed.  You now throw random darts at this board and you have to figure out how to calculate $\\pi$ by counting how many darts hit the circle and how many darts miss.  You can use any python, numpy, scipy, matplotlib function that you like, but I want you to be conscious of computational and coding efficiency.\n",
    "Also, please calculate how accurately you can estimate $\\pi$ using this method given that you throw $N$ darts (Remember what I told you about counting errors)."
   ]
  },
  {
   "cell_type": "code",
   "execution_count": 2,
   "metadata": {},
   "outputs": [],
   "source": [
    "%matplotlib inline\n",
    "import numpy as np\n",
    "import matplotlib.pyplot as plt"
   ]
  },
  {
   "cell_type": "code",
   "execution_count": 11,
   "metadata": {},
   "outputs": [
    {
     "name": "stdout",
     "output_type": "stream",
     "text": [
      "0.3\n",
      "[False  True False  True False False False False False  True]\n",
      "[ 0.56666691  0.55310636  0.50380106]\n"
     ]
    }
   ],
   "source": [
    "x = np.random.random(10)\n",
    "y = np.random.random(10)\n",
    "r2 = x**2 + y**2\n",
    "greaterthan05 = x>0.5\n",
    "print(greaterthan05.mean())\n",
    "print(greaterthan05)\n",
    "xgt05 = x[greaterthan05]\n",
    "print(xgt05)"
   ]
  },
  {
   "cell_type": "code",
   "execution_count": 10,
   "metadata": {},
   "outputs": [
    {
     "data": {
      "text/plain": [
       "<matplotlib.collections.PathCollection at 0x10e1d77f0>"
      ]
     },
     "execution_count": 10,
     "metadata": {},
     "output_type": "execute_result"
    },
    {
     "data": {
      "image/png": "[encoded data removed]",
      "text/plain": [
       "<matplotlib.figure.Figure at 0x10e0b3550>"
      ]
     },
     "metadata": {},
     "output_type": "display_data"
    }
   ],
   "source": [
    "# here is some help with the figure.\n",
    "# All you need to do is to add the hits and missed with different colors\n",
    "plt.figure()\n",
    "plt.axis('square')\n",
    "plt.xlim((0,1))\n",
    "plt.ylim((0,1))\n",
    "circle1 = plt.Circle((0.5, 0.5), 0.5, fill=False)\n",
    "fig, ax = plt.gcf(),plt.gca() \n",
    "ax.add_artist(circle1)\n",
    "plt.scatter(x,y,color='r')"
   ]
  },
  {
   "cell_type": "code",
   "execution_count": null,
   "metadata": {
    "collapsed": true
   },
   "outputs": [],
   "source": []
  }
 ],
 "metadata": {
  "anaconda-cloud": {},
  "kernelspec": {
   "display_name": "Python 3",
   "language": "python",
   "name": "python3"
  },
  "language_info": {
   "codemirror_mode": {
    "name": "ipython",
    "version": 3
   },
   "file_extension": ".py",
   "mimetype": "text/x-python",
   "name": "python",
   "nbconvert_exporter": "python",
   "pygments_lexer": "ipython3",
   "version": "3.6.6"
  }
 },
 "nbformat": 4,
 "nbformat_minor": 1
}
