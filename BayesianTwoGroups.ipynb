{
 "cells": [
  {
   "cell_type": "code",
   "execution_count": null,
   "metadata": {},
   "outputs": [],
   "source": [
    "%matplotlib inline\n",
    "import matplotlib.pylab as plt\n",
    "import numpy as np\n",
    "from scipy.stats import ttest_ind, invgamma, norm\n",
    "import pymc3 as pm"
   ]
  },
  {
   "cell_type": "markdown",
   "metadata": {},
   "source": [
    "# Group comparison\n",
    "in this chapter we are discussing how to compare groups of independent measurements.  As an example, we are going to look at a sample of 10th grade math scores from two different public U.S. high schools.  Thirty-one students from school 1 and 28 students from school 2 were randomly selected.  Both schools have a total enrollment of around 500 10th graders each, and both are in urban neighborhoods."
   ]
  },
  {
   "cell_type": "code",
   "execution_count": 2,
   "metadata": {},
   "outputs": [],
   "source": [
    "school1scores=np.array([52.11, 57.65, 66.44, 44.68, 40.57, 35.04, 50.71, 66.17, 39.43, \n",
    "46.17, 58.76, 47.97, 39.18, 64.63, 69.38, 32.38, 29.98, 59.32, \n",
    "43.04, 57.83, 46.07, 47.74, 48.66, 40.8, 66.32, 53.7, 52.42, \n",
    "71.38, 59.66, 47.52, 39.51])\n",
    "school2scores=np.array([52.87, 50.03, 41.51, 37.42, 64.42, 45.44, 46.06, 46.37, 46.66, \n",
    "29.01, 35.69, 49.16, 55.9, 45.84, 35.44, 43.21, 48.36, 74.14, \n",
    "46.76, 36.97, 43.84, 43.24, 56.9, 47.64, 38.84, 42.96, 41.58, \n",
    "45.96])"
   ]
  },
  {
   "cell_type": "code",
   "execution_count": 3,
   "metadata": {},
   "outputs": [
    {
     "data": {
      "text/plain": [
       "(array([ 1.,  4.,  3., 11.,  4.,  2.,  1.,  1.,  0.,  1.]),\n",
       " array([29.01 , 33.523, 38.036, 42.549, 47.062, 51.575, 56.088, 60.601,\n",
       "        65.114, 69.627, 74.14 ]),\n",
       " <a list of 10 Patch objects>)"
      ]
     },
     "execution_count": 3,
     "metadata": {},
     "output_type": "execute_result"
    },
    {
     "data": {
      "image/png": "[encoded data removed]",
      "text/plain": [
       "<Figure size 432x288 with 2 Axes>"
      ]
     },
     "metadata": {
      "needs_background": "light"
     },
     "output_type": "display_data"
    }
   ],
   "source": [
    "plt.figure()\n",
    "plt.subplot(2,1,1)\n",
    "plt.hist(school1scores)\n",
    "plt.subplot(2,1,2)\n",
    "plt.hist(school2scores)"
   ]
  },
  {
   "cell_type": "code",
   "execution_count": 4,
   "metadata": {},
   "outputs": [
    {
     "data": {
      "text/plain": [
       "{'whiskers': [<matplotlib.lines.Line2D at 0x1c24208320>,\n",
       "  <matplotlib.lines.Line2D at 0x1c24208668>,\n",
       "  <matplotlib.lines.Line2D at 0x1c24212a90>,\n",
       "  <matplotlib.lines.Line2D at 0x1c24212dd8>],\n",
       " 'caps': [<matplotlib.lines.Line2D at 0x1c242089b0>,\n",
       "  <matplotlib.lines.Line2D at 0x1c24208cf8>,\n",
       "  <matplotlib.lines.Line2D at 0x1c2421f160>,\n",
       "  <matplotlib.lines.Line2D at 0x1c2421f4a8>],\n",
       " 'boxes': [<matplotlib.lines.Line2D at 0x1c242081d0>,\n",
       "  <matplotlib.lines.Line2D at 0x1c24212748>],\n",
       " 'medians': [<matplotlib.lines.Line2D at 0x1c24212080>,\n",
       "  <matplotlib.lines.Line2D at 0x1c2421f7f0>],\n",
       " 'fliers': [<matplotlib.lines.Line2D at 0x1c242123c8>,\n",
       "  <matplotlib.lines.Line2D at 0x1c2421fb38>],\n",
       " 'means': []}"
      ]
     },
     "execution_count": 4,
     "metadata": {},
     "output_type": "execute_result"
    },
    {
     "data": {
      "image/png": "[encoded data removed]",
      "text/plain": [
       "<Figure size 432x288 with 1 Axes>"
      ]
     },
     "metadata": {
      "needs_background": "light"
     },
     "output_type": "display_data"
    }
   ],
   "source": [
    "data=[school1scores,school2scores]\n",
    "plt.figure()\n",
    "plt.boxplot(data)"
   ]
  },
  {
   "cell_type": "code",
   "execution_count": 5,
   "metadata": {},
   "outputs": [
    {
     "name": "stdout",
     "output_type": "stream",
     "text": [
      "School 1 mean 50.81354838709678, std 11.250249641196737\n",
      "School 2 mean 46.15071428571428, std 9.052143567940313\n"
     ]
    }
   ],
   "source": [
    "s1mean=school1scores.mean()\n",
    "s1std=school1scores.std(ddof=1)\n",
    "s2mean=school2scores.mean()\n",
    "s2std=school2scores.std(ddof=1)\n",
    "print(\"School 1 mean {}, std {}\".format(s1mean,s1std))\n",
    "print(\"School 2 mean {}, std {}\".format(s2mean,s2std))"
   ]
  },
  {
   "cell_type": "code",
   "execution_count": null,
   "metadata": {},
   "outputs": [],
   "source": [
    "result=ttest_ind(school1scores,school2scores)\n",
    "print(result)"
   ]
  },
  {
   "cell_type": "markdown",
   "metadata": {},
   "source": [
    "According to \"standard\" statistics the difference between the two schools seems not significant.  Let us see whether we can learn a little more by using a Bayesian approach.\n",
    "\n",
    "We start by expressing the scores of the two schools as draws from two distributions:\n",
    "\n",
    "$$Y_{i,1} = \\mu + \\delta + N(0,\\sigma^{2})$$\n",
    "$$Y_{i,2} = \\mu -\\delta + N(0,\\sigma^{2})$$\n",
    "\n",
    "here we assume that the standard deviation for both schools is the same.  We chose priors for these parameters to be\n",
    "$$P(\\mu,\\delta,\\sigma^{2}) = P(\\mu)P(\\delta)P(\\sigma^{2})$$\n",
    "$$P(\\mu) = N(\\mu_{0},\\gamma_{0})$$\n",
    "$$P(\\delta) = N(\\delta_{0},\\tau_{0})$$\n",
    "$$P(\\sigma^{2}) = inverse-gamma(\\nu_{0}/2,\\nu_{0}\\sigma_{0}/2)$$\n",
    "\n",
    "As parameters we chose the following:\n",
    "\n",
    "1) $\\mu_0$ should be $50$ since the average test score nationwide has a mean of $50$.\n",
    "\n",
    "2) a reasonable $\\sigma_{0}^{2}=10^{2}=100$\n",
    "\n",
    "3) $\\gamma_{0}^{2}=25^{2}=625$ and $\\nu_{0}=1$\n",
    "\n",
    "4) $\\delta_{0}=0$ and $\\tau_{0}^{2}=25^{2}=625$"
   ]
  },
  {
   "cell_type": "code",
   "execution_count": null,
   "metadata": {},
   "outputs": [],
   "source": [
    "nu0=1.0\n",
    "gamma0=25.0\n",
    "mu0=50.0\n",
    "sigma0=10.0\n",
    "delta0=0.0\n",
    "tau0=25.0"
   ]
  },
  {
   "cell_type": "code",
   "execution_count": null,
   "metadata": {},
   "outputs": [],
   "source": [
    "# prior for mu\n",
    "mu = np.linspace(0,100,100)\n",
    "pmu = norm.pdf(mu,loc=mu0,scale=25)\n",
    "plt.plot(mu,pmu)"
   ]
  },
  {
   "cell_type": "code",
   "execution_count": null,
   "metadata": {},
   "outputs": [],
   "source": [
    "# prior for delta\n",
    "d = np.linspace(-20,20,100)\n",
    "pd = norm.pdf(d,loc=0,scale=25)\n",
    "plt.plot(d,pd)"
   ]
  },
  {
   "cell_type": "code",
   "execution_count": null,
   "metadata": {},
   "outputs": [],
   "source": [
    "# prior for sigma^2\n",
    "s = np.linspace(0,100,100)\n",
    "ps = invgamma.pdf(s,a=nu0/2,scale=nu0*sigma0/2)\n",
    "plt.plot(s,ps)"
   ]
  },
  {
   "cell_type": "code",
   "execution_count": null,
   "metadata": {},
   "outputs": [],
   "source": [
    "with pm.Model() as bayesianTwoGroups:\n",
    "    sigmaSquare=pm.InverseGamma('sigmaSquare',nu0/2.0,nu0*sigma0**2/2.0)\n",
    "    mu=pm.Normal('mu',mu=mu0,tau=1/gamma0**2)\n",
    "    delta=pm.Normal('delta',mu=delta0,tau=1/tau0**2)\n",
    "    \n",
    "    s1=pm.Normal('s1',mu=mu+delta,tau=1/sigmaSquare,observed=school1scores)\n",
    "    s2=pm.Normal('s2',mu=mu-delta,tau=1/sigmaSquare,observed=school2scores)"
   ]
  },
  {
   "cell_type": "code",
   "execution_count": null,
   "metadata": {},
   "outputs": [],
   "source": [
    "with bayesianTwoGroups:\n",
    "    trace = pm.sample(5000)"
   ]
  },
  {
   "cell_type": "code",
   "execution_count": null,
   "metadata": {},
   "outputs": [],
   "source": [
    "pm.traceplot(trace)"
   ]
  },
  {
   "cell_type": "code",
   "execution_count": null,
   "metadata": {},
   "outputs": [],
   "source": [
    "pm.summary(trace)"
   ]
  },
  {
   "cell_type": "code",
   "execution_count": null,
   "metadata": {},
   "outputs": [],
   "source": [
    "# get the delta trace (sample) from the MCMC simulation\n",
    "delta_trace=np.array(trace['delta'])"
   ]
  },
  {
   "cell_type": "code",
   "execution_count": null,
   "metadata": {},
   "outputs": [],
   "source": [
    "# calculate the probability that the difference between schools is greater than zero\n",
    "delta_trace_greater_zero=delta_trace[delta_trace>0]\n",
    "print(delta_trace_greater_zero.size/delta_trace.size)"
   ]
  },
  {
   "cell_type": "code",
   "execution_count": null,
   "metadata": {},
   "outputs": [],
   "source": []
  }
 ],
 "metadata": {
  "anaconda-cloud": {},
  "kernelspec": {
   "display_name": "Python 3",
   "language": "python",
   "name": "python3"
  },
  "language_info": {
   "codemirror_mode": {
    "name": "ipython",
    "version": 3
   },
   "file_extension": ".py",
   "mimetype": "text/x-python",
   "name": "python",
   "nbconvert_exporter": "python",
   "pygments_lexer": "ipython3",
   "version": "3.6.8"
  }
 },
 "nbformat": 4,
 "nbformat_minor": 1
}
