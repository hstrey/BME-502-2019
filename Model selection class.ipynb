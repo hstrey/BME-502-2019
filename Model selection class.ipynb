{
 "cells": [
  {
   "cell_type": "code",
   "execution_count": 37,
   "metadata": {},
   "outputs": [],
   "source": [
    "%matplotlib inline\n",
    "import numpy as np\n",
    "import matplotlib.pyplot as plt"
   ]
  },
  {
   "cell_type": "code",
   "execution_count": 38,
   "metadata": {},
   "outputs": [],
   "source": [
    "sigma = 0.1\n",
    "x = np.linspace(-5,5,11)\n",
    "y = 2*x + 0.05*x**2 + np.random.normal(loc=0,scale=sigma,size=11)"
   ]
  },
  {
   "cell_type": "code",
   "execution_count": 39,
   "metadata": {},
   "outputs": [
    {
     "data": {
      "text/plain": [
       "[<matplotlib.lines.Line2D at 0x118884ac8>]"
      ]
     },
     "execution_count": 39,
     "metadata": {},
     "output_type": "execute_result"
    },
    {
     "data": {
      "image/png": "[encoded data removed]",
      "text/plain": [
       "<Figure size 432x288 with 1 Axes>"
      ]
     },
     "metadata": {
      "needs_background": "light"
     },
     "output_type": "display_data"
    }
   ],
   "source": [
    "plt.plot(x,y,\"o\")"
   ]
  },
  {
   "cell_type": "code",
   "execution_count": 40,
   "metadata": {},
   "outputs": [
    {
     "name": "stdout",
     "output_type": "stream",
     "text": [
      "[2.00589605 0.49059664]\n",
      "chi^2:  1.977572665676361 exp(-chi^2):  0.13840478458761485\n"
     ]
    }
   ],
   "source": [
    "p1 = np.polyfit(x,y,1)\n",
    "print(p1)\n",
    "ylin_fit = np.poly1d(p1)(x)\n",
    "res_lin = ylin_fit - y\n",
    "chi2_lin = np.sum(res_lin**2)\n",
    "print(\"chi^2: \",chi2_lin,\"exp(-chi^2): \",np.exp(-chi2_lin))"
   ]
  },
  {
   "cell_type": "code",
   "execution_count": 41,
   "metadata": {},
   "outputs": [
    {
     "name": "stdout",
     "output_type": "stream",
     "text": [
      "[0.04693073 2.00589605 0.02128936]\n",
      "chi^2:  0.08783344633147774 exp(-chi^2):  0.9159134127591986\n"
     ]
    }
   ],
   "source": [
    "p2,p2_cov = np.polyfit(x,y,2,cov=True)\n",
    "print(p2)\n",
    "yqua_fit = np.poly1d(p2)(x)\n",
    "res_qua = yqua_fit - y\n",
    "chi2_qua = np.sum(res_qua**2)\n",
    "print(\"chi^2: \",chi2_qua,\"exp(-chi^2): \",np.exp(-chi2_qua))"
   ]
  },
  {
   "cell_type": "code",
   "execution_count": 42,
   "metadata": {},
   "outputs": [
    {
     "name": "stdout",
     "output_type": "stream",
     "text": [
      "3.4934728640264194\n"
     ]
    }
   ],
   "source": [
    "pr = np.exp(-(chi2_lin-chi2_qua))*0.6/2/np.pi/np.sqrt(p2_cov[0][0])\n",
    "print(pr)"
   ]
  },
  {
   "cell_type": "code",
   "execution_count": null,
   "metadata": {},
   "outputs": [],
   "source": []
  }
 ],
 "metadata": {
  "kernelspec": {
   "display_name": "Python 3",
   "language": "python",
   "name": "python3"
  },
  "language_info": {
   "codemirror_mode": {
    "name": "ipython",
    "version": 3
   },
   "file_extension": ".py",
   "mimetype": "text/x-python",
   "name": "python",
   "nbconvert_exporter": "python",
   "pygments_lexer": "ipython3",
   "version": "3.7.0"
  }
 },
 "nbformat": 4,
 "nbformat_minor": 2
}
